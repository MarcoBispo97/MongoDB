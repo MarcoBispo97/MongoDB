{
 "cells": [
  {
   "cell_type": "code",
   "execution_count": 11,
   "id": "38cfb3b4",
   "metadata": {},
   "outputs": [
    {
     "name": "stdout",
     "output_type": "stream",
     "text": [
      "Requirement already satisfied: pymongo in c:\\users\\marco\\anaconda3\\lib\\site-packages (3.12.0)\n"
     ]
    }
   ],
   "source": [
    "!pip install pymongo"
   ]
  },
  {
   "cell_type": "code",
   "execution_count": 12,
   "id": "f42995e7",
   "metadata": {},
   "outputs": [],
   "source": [
    "#Importamos o MongoClient para conectar nossa aplicação ao MongoDB\n",
    "from pymongo import MongoClient"
   ]
  },
  {
   "cell_type": "code",
   "execution_count": 15,
   "id": "45218d25",
   "metadata": {},
   "outputs": [],
   "source": [
    "#Estabelecemos a conexão Banco de Dados\n",
    "conn = MongoClient('Localhost', 27017)"
   ]
  },
  {
   "cell_type": "code",
   "execution_count": 16,
   "id": "1cb19d24",
   "metadata": {},
   "outputs": [
    {
     "data": {
      "text/plain": [
       "pymongo.mongo_client.MongoClient"
      ]
     },
     "execution_count": 16,
     "metadata": {},
     "output_type": "execute_result"
    }
   ],
   "source": [
    "type(conn)"
   ]
  },
  {
   "cell_type": "code",
   "execution_count": 17,
   "id": "11ed7786",
   "metadata": {},
   "outputs": [],
   "source": [
    "#Uma única instância do MongoDB pode suportar bancos de dados.\n",
    "#Vamos criar o banco de dados cadastrodb\n",
    "db = conn.cadastrodb\n"
   ]
  },
  {
   "cell_type": "code",
   "execution_count": 18,
   "id": "93ae4cab",
   "metadata": {},
   "outputs": [
    {
     "data": {
      "text/plain": [
       "pymongo.database.Database"
      ]
     },
     "execution_count": 18,
     "metadata": {},
     "output_type": "execute_result"
    }
   ],
   "source": [
    "type(db)"
   ]
  },
  {
   "cell_type": "code",
   "execution_count": 19,
   "id": "fb8136c8",
   "metadata": {},
   "outputs": [],
   "source": [
    "#Uma coleção é um grupo de documentos armazenados no MongoDB\n",
    "#relativamente parecido com o conceito de tabelas em banco relacionais\n",
    "collection = db.cadastrodb"
   ]
  },
  {
   "cell_type": "code",
   "execution_count": 20,
   "id": "5bad4463",
   "metadata": {},
   "outputs": [
    {
     "data": {
      "text/plain": [
       "pymongo.collection.Collection"
      ]
     },
     "execution_count": 20,
     "metadata": {},
     "output_type": "execute_result"
    }
   ],
   "source": [
    "type(collection)"
   ]
  },
  {
   "cell_type": "code",
   "execution_count": 21,
   "id": "bc7d6037",
   "metadata": {},
   "outputs": [],
   "source": [
    "import datetime"
   ]
  },
  {
   "cell_type": "markdown",
   "id": "1905ed61",
   "metadata": {},
   "source": [
    "Dados no MongoDB são representados e armazenados usando documentos JSON (Java Script Object Notation).\n",
    "Com o PyMongo usamos dicionários para representar documentos"
   ]
  },
  {
   "cell_type": "code",
   "execution_count": 28,
   "id": "dd4696d8",
   "metadata": {},
   "outputs": [],
   "source": [
    "post1 = {\"codigo\":\"ID-99887725\", \"prod_name\":\"Geladeira\", \"marcas\": [\"bastemp\", \"consul\", \"eletrolux\"], \"data_cadastro\":\n",
    "        datetime.datetime.utcnow()}"
   ]
  },
  {
   "cell_type": "code",
   "execution_count": 29,
   "id": "fa7c15b3",
   "metadata": {},
   "outputs": [
    {
     "data": {
      "text/plain": [
       "dict"
      ]
     },
     "execution_count": 29,
     "metadata": {},
     "output_type": "execute_result"
    }
   ],
   "source": [
    "type(post1)"
   ]
  },
  {
   "cell_type": "code",
   "execution_count": 30,
   "id": "00dd7393",
   "metadata": {},
   "outputs": [],
   "source": [
    "collection = db.posts"
   ]
  },
  {
   "cell_type": "code",
   "execution_count": 31,
   "id": "16f56f19",
   "metadata": {},
   "outputs": [],
   "source": [
    "post_id = collection.insert_one(post1)"
   ]
  },
  {
   "cell_type": "code",
   "execution_count": 33,
   "id": "a4de4916",
   "metadata": {},
   "outputs": [
    {
     "data": {
      "text/plain": [
       "ObjectId('616486643fbc6e9bc0c85c49')"
      ]
     },
     "execution_count": 33,
     "metadata": {},
     "output_type": "execute_result"
    }
   ],
   "source": [
    "post_id.inserted_id"
   ]
  },
  {
   "cell_type": "code",
   "execution_count": 34,
   "id": "97010b4d",
   "metadata": {},
   "outputs": [
    {
     "data": {
      "text/plain": [
       "<pymongo.results.InsertOneResult at 0x1745db58300>"
      ]
     },
     "execution_count": 34,
     "metadata": {},
     "output_type": "execute_result"
    }
   ],
   "source": [
    "post_id"
   ]
  },
  {
   "cell_type": "code",
   "execution_count": 38,
   "id": "2bcaebcc",
   "metadata": {},
   "outputs": [],
   "source": [
    "post2 = {\"codigo\": \"ID-22098876\",\n",
    "        \"prod_name\":\"Televisor\",\n",
    "        \"marcas\": [\"samsung\",\"panasonic\",\"lg\"],\n",
    "        \"data_cadastro\": datetime.datetime.utcnow()}"
   ]
  },
  {
   "cell_type": "code",
   "execution_count": 39,
   "id": "51b62da6",
   "metadata": {},
   "outputs": [],
   "source": [
    "collection = db.posts"
   ]
  },
  {
   "cell_type": "code",
   "execution_count": 40,
   "id": "17820974",
   "metadata": {},
   "outputs": [],
   "source": [
    "post_id = collection.insert_one(post2).inserted_id"
   ]
  },
  {
   "cell_type": "code",
   "execution_count": 41,
   "id": "8dcd00c6",
   "metadata": {},
   "outputs": [
    {
     "data": {
      "text/plain": [
       "ObjectId('616487af3fbc6e9bc0c85c4a')"
      ]
     },
     "execution_count": 41,
     "metadata": {},
     "output_type": "execute_result"
    }
   ],
   "source": [
    "post_id"
   ]
  },
  {
   "cell_type": "code",
   "execution_count": 42,
   "id": "ce1f689f",
   "metadata": {},
   "outputs": [
    {
     "data": {
      "text/plain": [
       "{'_id': ObjectId('616487af3fbc6e9bc0c85c4a'),\n",
       " 'codigo': 'ID-22098876',\n",
       " 'prod_name': 'Televisor',\n",
       " 'marcas': ['samsung', 'panasonic', 'lg'],\n",
       " 'data_cadastro': datetime.datetime(2021, 10, 11, 18, 50, 43, 459000)}"
      ]
     },
     "execution_count": 42,
     "metadata": {},
     "output_type": "execute_result"
    }
   ],
   "source": [
    "collection.find_one({\"prod_name\":\"Televisor\"})"
   ]
  },
  {
   "cell_type": "code",
   "execution_count": 43,
   "id": "479b9a1e",
   "metadata": {},
   "outputs": [
    {
     "name": "stdout",
     "output_type": "stream",
     "text": [
      "{'_id': ObjectId('616485ce3fbc6e9bc0c85c48'), 'codigo': 'ID-99887725', 'prod_name': 'Geladeira', 'marcas': ['bastemp', 'consul', 'eletrolux'], 'data_cadastro': datetime.datetime(2021, 10, 11, 18, 42, 28, 581000)}\n",
      "{'_id': ObjectId('616486643fbc6e9bc0c85c49'), 'codigo': 'ID-99887725', 'prod_name': 'Geladeira', 'marcas': ['bastemp', 'consul', 'eletrolux'], 'data_cadastro': datetime.datetime(2021, 10, 11, 18, 45, 54, 855000)}\n",
      "{'_id': ObjectId('616487af3fbc6e9bc0c85c4a'), 'codigo': 'ID-22098876', 'prod_name': 'Televisor', 'marcas': ['samsung', 'panasonic', 'lg'], 'data_cadastro': datetime.datetime(2021, 10, 11, 18, 50, 43, 459000)}\n"
     ]
    }
   ],
   "source": [
    "#A função find() retorna um cursor e podemos entâo navegar pelos dados\n",
    "for post in collection.find():\n",
    "    print(post)"
   ]
  },
  {
   "cell_type": "code",
   "execution_count": 44,
   "id": "2bc51ab6",
   "metadata": {},
   "outputs": [
    {
     "data": {
      "text/plain": [
       "'cadastrodb'"
      ]
     },
     "execution_count": 44,
     "metadata": {},
     "output_type": "execute_result"
    }
   ],
   "source": [
    "#Verificando o nome do banco de dados\n",
    "db.name"
   ]
  },
  {
   "cell_type": "code",
   "execution_count": 45,
   "id": "c0532630",
   "metadata": {},
   "outputs": [
    {
     "name": "stderr",
     "output_type": "stream",
     "text": [
      "<ipython-input-45-900f143f7bce>:2: DeprecationWarning: collection_names is deprecated. Use list_collection_names instead.\n",
      "  db.collection_names()\n"
     ]
    },
    {
     "data": {
      "text/plain": [
       "['posts']"
      ]
     },
     "execution_count": 45,
     "metadata": {},
     "output_type": "execute_result"
    }
   ],
   "source": [
    "#Listando as coleções disponíveis\n",
    "db.collection_names()"
   ]
  },
  {
   "cell_type": "code",
   "execution_count": null,
   "id": "f8d926de",
   "metadata": {},
   "outputs": [],
   "source": []
  }
 ],
 "metadata": {
  "kernelspec": {
   "display_name": "Python 3",
   "language": "python",
   "name": "python3"
  },
  "language_info": {
   "codemirror_mode": {
    "name": "ipython",
    "version": 3
   },
   "file_extension": ".py",
   "mimetype": "text/x-python",
   "name": "python",
   "nbconvert_exporter": "python",
   "pygments_lexer": "ipython3",
   "version": "3.8.8"
  }
 },
 "nbformat": 4,
 "nbformat_minor": 5
}
