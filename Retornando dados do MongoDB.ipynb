{
 "cells": [
  {
   "cell_type": "code",
   "execution_count": 1,
   "id": "17741fb4",
   "metadata": {},
   "outputs": [],
   "source": [
    "#Importanto dados do PyMongo\n",
    "import pymongo"
   ]
  },
  {
   "cell_type": "code",
   "execution_count": 2,
   "id": "d02dcb27",
   "metadata": {},
   "outputs": [],
   "source": [
    "#Criando a conexão com o MongoDB (neste caso, conexão padrão)\n",
    "client_con = pymongo.MongoClient()"
   ]
  },
  {
   "cell_type": "code",
   "execution_count": 3,
   "id": "d6d0fafe",
   "metadata": {},
   "outputs": [
    {
     "name": "stderr",
     "output_type": "stream",
     "text": [
      "<ipython-input-3-f25883dbcbc7>:2: DeprecationWarning: database_names is deprecated. Use list_database_names instead.\n",
      "  client_con.database_names()\n"
     ]
    },
    {
     "data": {
      "text/plain": [
       "['admin', 'cadastrodb', 'config', 'local']"
      ]
     },
     "execution_count": 3,
     "metadata": {},
     "output_type": "execute_result"
    }
   ],
   "source": [
    "#Listando os bancos de dados disponíveis\n",
    "client_con.database_names()\n",
    "#Apenas o cadastrodb foi criado, os outros já viram presentes por padrão"
   ]
  },
  {
   "cell_type": "code",
   "execution_count": 4,
   "id": "9ed1ad2c",
   "metadata": {},
   "outputs": [],
   "source": [
    "#Definindo o objeto db\n",
    "db = client_con.cadastrodb"
   ]
  },
  {
   "cell_type": "code",
   "execution_count": 5,
   "id": "17983bfe",
   "metadata": {},
   "outputs": [
    {
     "name": "stderr",
     "output_type": "stream",
     "text": [
      "<ipython-input-5-b95167e68efa>:2: DeprecationWarning: collection_names is deprecated. Use list_collection_names instead.\n",
      "  db.collection_names()\n"
     ]
    },
    {
     "data": {
      "text/plain": [
       "Collection(Database(MongoClient(host=['localhost:27017'], document_class=dict, tz_aware=False, connect=True), 'cadastrodb'), 'mycollection')"
      ]
     },
     "execution_count": 5,
     "metadata": {},
     "output_type": "execute_result"
    }
   ],
   "source": [
    "#Listando as coleções disponíveis\n",
    "db.collection_names()\n",
    "#Criando uma coleção\n",
    "db.create_collection(\"mycollection\")"
   ]
  },
  {
   "cell_type": "code",
   "execution_count": 6,
   "id": "4817eed0",
   "metadata": {},
   "outputs": [
    {
     "name": "stderr",
     "output_type": "stream",
     "text": [
      "<ipython-input-6-900f143f7bce>:2: DeprecationWarning: collection_names is deprecated. Use list_collection_names instead.\n",
      "  db.collection_names()\n"
     ]
    },
    {
     "data": {
      "text/plain": [
       "['posts', 'mycollection']"
      ]
     },
     "execution_count": 6,
     "metadata": {},
     "output_type": "execute_result"
    }
   ],
   "source": [
    "#Listando as coleções disponíveis\n",
    "db.collection_names()"
   ]
  },
  {
   "cell_type": "code",
   "execution_count": 9,
   "id": "55c71b8e",
   "metadata": {},
   "outputs": [
    {
     "data": {
      "text/plain": [
       "<pymongo.results.InsertOneResult at 0x296afcc5780>"
      ]
     },
     "execution_count": 9,
     "metadata": {},
     "output_type": "execute_result"
    }
   ],
   "source": [
    "#Inserindo um documento na coleção criada\n",
    "db.mycollection.insert_one({\n",
    "    \"titulo\":\"MongoDB com Python\",\n",
    "    'descricao':'MongoDB é um banco de dados NoSQL',\n",
    "    'by':'Data Sciense Academy',\n",
    "    'url': 'https://www.datascienceacademy.com.br/start',\n",
    "    'tags': ['mongodb','database','NoSQL'],\n",
    "    'likes': 100\n",
    "})"
   ]
  },
  {
   "cell_type": "code",
   "execution_count": 10,
   "id": "cc1b191c",
   "metadata": {},
   "outputs": [
    {
     "data": {
      "text/plain": [
       "{'_id': ObjectId('61648c6757755e913727e922'),\n",
       " 'titulo': 'MongoDB com Python',\n",
       " 'descricao': 'MongoDB é um banco de dados NoSQL',\n",
       " 'by': 'Data Sciense Academy',\n",
       " 'url': 'https://www.datascienceacademy.com.br/start',\n",
       " 'tags': ['mongodb', 'database', 'NoSQL'],\n",
       " 'likes': 100}"
      ]
     },
     "execution_count": 10,
     "metadata": {},
     "output_type": "execute_result"
    }
   ],
   "source": [
    "#Retornando o documento criado\n",
    "db.mycollection.find_one()"
   ]
  },
  {
   "cell_type": "code",
   "execution_count": 13,
   "id": "6bae2152",
   "metadata": {},
   "outputs": [],
   "source": [
    "#Preparando um documento\n",
    "doc1 = {\"Nome\":\"Donald\",\"sobrenome\":\"Trump\",\"twiter\":\"@POTUS\"}"
   ]
  },
  {
   "cell_type": "code",
   "execution_count": 15,
   "id": "ce12eb6a",
   "metadata": {},
   "outputs": [
    {
     "data": {
      "text/plain": [
       "<pymongo.results.InsertOneResult at 0x296afdbf480>"
      ]
     },
     "execution_count": 15,
     "metadata": {},
     "output_type": "execute_result"
    }
   ],
   "source": [
    "#Inserindo o documento criado\n",
    "db.mycollection.insert_one(doc1)"
   ]
  },
  {
   "cell_type": "code",
   "execution_count": 16,
   "id": "3435fb2a",
   "metadata": {},
   "outputs": [],
   "source": [
    "#Preparando um documento\n",
    "doc2 = {\"Site\":\"http://https://www.datascienceacademy.com.br/start\", \"facebook\": \"https://www.facebook.com/dsacademybr\"}"
   ]
  },
  {
   "cell_type": "code",
   "execution_count": 17,
   "id": "117e56c8",
   "metadata": {},
   "outputs": [
    {
     "data": {
      "text/plain": [
       "<pymongo.results.InsertOneResult at 0x296afdc0540>"
      ]
     },
     "execution_count": 17,
     "metadata": {},
     "output_type": "execute_result"
    }
   ],
   "source": [
    "#Inserindo um documento\n",
    "db.mycollection.insert_one(doc2)"
   ]
  },
  {
   "cell_type": "code",
   "execution_count": 18,
   "id": "ca2d8110",
   "metadata": {},
   "outputs": [
    {
     "name": "stdout",
     "output_type": "stream",
     "text": [
      "{'_id': ObjectId('61648c6757755e913727e922'), 'titulo': 'MongoDB com Python', 'descricao': 'MongoDB é um banco de dados NoSQL', 'by': 'Data Sciense Academy', 'url': 'https://www.datascienceacademy.com.br/start', 'tags': ['mongodb', 'database', 'NoSQL'], 'likes': 100}\n",
      "{'_id': ObjectId('61648f3857755e913727e923'), 'Nome': 'Donald', 'sobrenome': 'Trump', 'twiter': '@POTUS'}\n",
      "{'_id': ObjectId('61648fd557755e913727e924'), 'Site': 'http://https://www.datascienceacademy.com.br/start', 'facebook': 'https://www.facebook.com/dsacademybr'}\n"
     ]
    }
   ],
   "source": [
    "#Retornando o doc na coleção\n",
    "for rec in db.mycollection.find():\n",
    "    print(rec)"
   ]
  },
  {
   "cell_type": "code",
   "execution_count": 19,
   "id": "145fe1b0",
   "metadata": {},
   "outputs": [],
   "source": [
    "#Conectando a uma coleção\n",
    "col = db[\"mycollection\"]"
   ]
  },
  {
   "cell_type": "code",
   "execution_count": 20,
   "id": "1b7a4aa8",
   "metadata": {},
   "outputs": [
    {
     "data": {
      "text/plain": [
       "pymongo.collection.Collection"
      ]
     },
     "execution_count": 20,
     "metadata": {},
     "output_type": "execute_result"
    }
   ],
   "source": [
    "type(col)"
   ]
  },
  {
   "cell_type": "code",
   "execution_count": 21,
   "id": "501cd92b",
   "metadata": {},
   "outputs": [
    {
     "data": {
      "text/plain": [
       "{'_id': ObjectId('61648c6757755e913727e922'),\n",
       " 'titulo': 'MongoDB com Python',\n",
       " 'descricao': 'MongoDB é um banco de dados NoSQL',\n",
       " 'by': 'Data Sciense Academy',\n",
       " 'url': 'https://www.datascienceacademy.com.br/start',\n",
       " 'tags': ['mongodb', 'database', 'NoSQL'],\n",
       " 'likes': 100}"
      ]
     },
     "execution_count": 21,
     "metadata": {},
     "output_type": "execute_result"
    }
   ],
   "source": [
    "#Encontrando um único documento\n",
    "redoc = col.find_one()\n",
    "redoc"
   ]
  },
  {
   "cell_type": "code",
   "execution_count": null,
   "id": "9cd98c8a",
   "metadata": {},
   "outputs": [],
   "source": []
  }
 ],
 "metadata": {
  "kernelspec": {
   "display_name": "Python 3",
   "language": "python",
   "name": "python3"
  },
  "language_info": {
   "codemirror_mode": {
    "name": "ipython",
    "version": 3
   },
   "file_extension": ".py",
   "mimetype": "text/x-python",
   "name": "python",
   "nbconvert_exporter": "python",
   "pygments_lexer": "ipython3",
   "version": "3.8.8"
  }
 },
 "nbformat": 4,
 "nbformat_minor": 5
}
